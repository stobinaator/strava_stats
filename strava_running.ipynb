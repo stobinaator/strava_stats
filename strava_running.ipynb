{
 "cells": [
  {
   "cell_type": "code",
   "execution_count": null,
   "id": "b82d458b",
   "metadata": {},
   "outputs": [],
   "source": [
    "import requests\n",
    "import urllib3\n",
    "import json\n",
    "import csv\n",
    "import os\n",
    "import datetime\n",
    "\n",
    "import pandas as pd\n",
    "import seaborn as sns\n",
    "import matplotlib.pyplot as plt\n",
    "import numpy as np\n",
    "\n",
    "urllib3.disable_warnings(urllib3.exceptions.InsecureRequestWarning)"
   ]
  },
  {
   "cell_type": "code",
   "execution_count": null,
   "id": "2d2a6fc6",
   "metadata": {},
   "outputs": [],
   "source": [
    "pd.set_option('display.max_columns', 83)\n",
    "pd.set_option('display.max_colwidth', 25)\n",
    "pd.set_option('display.max_rows', None)\n",
    "pd.set_option(\"display.precision\", 2)\n",
    "sns.set(rc={'figure.figsize':(12.7,8.27)})"
   ]
  },
  {
   "cell_type": "code",
   "execution_count": null,
   "id": "c7261503",
   "metadata": {},
   "outputs": [],
   "source": [
    "cd = os.path.abspath(os.getcwd())\n",
    "with open(f'{cd}/config.json') as f:\n",
    "    data = json.load(f)"
   ]
  },
  {
   "cell_type": "code",
   "execution_count": null,
   "id": "46c439bf",
   "metadata": {},
   "outputs": [],
   "source": [
    "auth_url = \"https://www.strava.com/oauth/token\"\n",
    "activites_url = \"https://www.strava.com/api/v3/athlete/activities\"\n",
    "payload = data['payload']\n",
    "res = requests.post(auth_url, data=payload, verify=False)\n",
    "header = {'Authorization': 'Bearer ' + res.json()['access_token']}\n",
    "\n",
    "my_activities = pd.DataFrame()\n",
    "for page in range(1,99):\n",
    "    my_dataset = requests.get(activites_url, headers=header, params={'per_page': 200, 'page': page}).json()\n",
    "    my_dataframe = pd.json_normalize(my_dataset)\n",
    "    my_activities = pd.concat([my_activities, my_dataframe], ignore_index=True)"
   ]
  },
  {
   "cell_type": "code",
   "execution_count": null,
   "id": "e5e345ad",
   "metadata": {},
   "outputs": [],
   "source": [
    "my_acts = my_activities.copy(deep=True)"
   ]
  },
  {
   "cell_type": "code",
   "execution_count": null,
   "id": "6587a6b6",
   "metadata": {},
   "outputs": [],
   "source": [
    "my_acts = my_acts.rename(columns={'average_speed' : 'average_speed_mps', \n",
    "                                        'max_speed' : 'max_speed_mps',\n",
    "                                        'moving_time' : 'moving_time_s',\n",
    "                                        'elapsed_time' : 'elapsed_time_s'})\n",
    "\n",
    "# fix 'start_date_local' and create 2 new columns 'start_time' and 'moving_time(min)'\n",
    "my_acts['start_date_local'] = pd.to_datetime(my_acts['start_date_local'])\n",
    "my_acts['start_time'] = my_acts['start_date_local'].dt.time\n",
    "my_acts['start_date_local'] = my_acts['start_date_local'].dt.strftime(\"%d/%m/%y\")\n",
    "\n",
    "# seconds to minutes\n",
    "my_acts['moving_time(min)'] = my_acts['moving_time_s'].apply(lambda x: pd.to_datetime(x, unit='s').strftime('%H:%M:%S'))\n",
    "\n",
    "# meters to kms\n",
    "my_acts['distance'] = my_acts[\n",
    "    (my_acts['type'] == 'Run') |\n",
    "    (my_acts['type'] == 'Walk')]['distance'] / 1000\n",
    "\n",
    "# meters per second to kms per hour\n",
    "my_acts['average_speed_mps'] = my_acts['average_speed_mps'] * (18/5)\n",
    "my_acts['max_speed_mps'] = my_acts['max_speed_mps'] * (18/5)\n",
    "\n",
    "# from (GMT+01:00) Europe/Berlin -> Europe/Berlin\n",
    "my_acts['timezone'] = my_acts['timezone'].str.split(' ').str[-1]\n",
    "\n",
    "# rename converted columns\n",
    "my_acts = my_acts.rename(columns={'average_speed_mps': 'average_speed_kmh',\n",
    "                                        'max_speed_mps' : 'max_speed_kmh',\n",
    "                                        'distance' : 'distance_km'})"
   ]
  },
  {
   "cell_type": "code",
   "execution_count": null,
   "id": "4cebf99d",
   "metadata": {},
   "outputs": [],
   "source": [
    "cols = ['upload_id', 'name', 'type', 'distance_km', 'moving_time(min)','start_time',  'start_date_local',  'timezone',\n",
    "        'average_speed_kmh', 'max_speed_kmh', 'total_elevation_gain', 'average_heartrate',\n",
    "        'max_heartrate', 'achievement_count', 'kudos_count', 'visibility',  ]\n",
    "my_acts = my_acts[cols]\n",
    "\n",
    "# usage -> 25.1 KB to 22.6 KB\n",
    "my_acts['visibility'] = pd.Categorical(my_acts['visibility'])\n",
    "my_acts['timezone'] = pd.Categorical(my_acts['timezone'])"
   ]
  },
  {
   "cell_type": "code",
   "execution_count": null,
   "id": "56b7ca51",
   "metadata": {},
   "outputs": [],
   "source": [
    "my_acts"
   ]
  },
  {
   "cell_type": "code",
   "execution_count": null,
   "id": "ebb8c960",
   "metadata": {},
   "outputs": [],
   "source": [
    "with open(f'{cd}/csvs/all_activities.csv', 'w') as activs_f:\n",
    "    my_acts.to_csv(activs_f)"
   ]
  },
  {
   "cell_type": "code",
   "execution_count": null,
   "id": "08b04092",
   "metadata": {},
   "outputs": [],
   "source": [
    "with open(f'{cd}/not_needed/all_activities.csv', 'r') as activs_f:\n",
    "    activities = pd.read_csv(activs_f, delimiter=',' , encoding='iso-8859-1', index_col=[0])"
   ]
  },
  {
   "cell_type": "code",
   "execution_count": null,
   "id": "9900122c",
   "metadata": {},
   "outputs": [],
   "source": [
    "activities"
   ]
  },
  {
   "cell_type": "markdown",
   "id": "4e774688",
   "metadata": {},
   "source": [
    " IDEAS\n",
    " check the name: 'run'-> move to a new df['running']\n",
    "                'other' -> df['rest_sessions']\n",
    "activities"
   ]
  },
  {
   "cell_type": "code",
   "execution_count": null,
   "id": "ede4a9d2",
   "metadata": {
    "scrolled": true
   },
   "outputs": [],
   "source": [
    "activities['type'].value_counts().plot(kind='bar', rot=30).set_title(\"Each activity's # of occurences\")"
   ]
  },
  {
   "cell_type": "code",
   "execution_count": null,
   "id": "ae5fed76",
   "metadata": {},
   "outputs": [],
   "source": [
    "sns.countplot(x='type',\n",
    "              data=activities)"
   ]
  },
  {
   "cell_type": "code",
   "execution_count": null,
   "id": "7683f78e",
   "metadata": {},
   "outputs": [],
   "source": [
    "run = activities.loc[activities['type'] == 'Run']"
   ]
  },
  {
   "cell_type": "code",
   "execution_count": null,
   "id": "93ad59a2",
   "metadata": {},
   "outputs": [],
   "source": [
    "run.shape"
   ]
  },
  {
   "cell_type": "code",
   "execution_count": null,
   "id": "0572d0d8",
   "metadata": {},
   "outputs": [],
   "source": [
    "sns.countplot(x='name', \n",
    "              data=run, \n",
    "              order=pd.value_counts(run['name']).iloc[:4].index)\n",
    "locs, labels = plt.xticks(rotation=45, fontsize=8)\n",
    "plt.title(\"Different named runs and their couns\")\n",
    "plt.xlabel(\"Name of run\")\n",
    "plt.ylabel(\"Count\")"
   ]
  },
  {
   "cell_type": "code",
   "execution_count": null,
   "id": "3d374c15",
   "metadata": {
    "scrolled": true
   },
   "outputs": [],
   "source": [
    "run_5_more = run[run['distance_km'] > 5]"
   ]
  },
  {
   "cell_type": "code",
   "execution_count": null,
   "id": "6889096d",
   "metadata": {},
   "outputs": [],
   "source": [
    "sns.scatterplot(x='distance_km',\n",
    "                y='moving_time(min)',\n",
    "                data=run_5_more)\n",
    "locs,label = plt.xticks(rotation=90, fontsize=3)"
   ]
  },
  {
   "cell_type": "code",
   "execution_count": null,
   "id": "bfc9c05c",
   "metadata": {},
   "outputs": [],
   "source": [
    "sns.set(style=\"ticks\", context=\"talk\")\n",
    "sns.regplot(x=\"distance_km\", y=\"average_speed_kmh\", data=run).set_title(\"Average Speed vs Distance\")"
   ]
  },
  {
   "cell_type": "code",
   "execution_count": null,
   "id": "db28ef7f",
   "metadata": {},
   "outputs": [],
   "source": [
    "sns.set(style=\"ticks\", context=\"talk\")\n",
    "sns.regplot(x='distance_km', y='max_speed_kmh', data=run).set_title(\"Max Speed vs Distance\")"
   ]
  },
  {
   "cell_type": "code",
   "execution_count": null,
   "id": "891a0e86",
   "metadata": {},
   "outputs": [],
   "source": [
    "sns.boxplot(x='name',y='distance_km',data=run_5_more)\n",
    "locs, labels = plt.xticks(rotation=45, fontsize=12)"
   ]
  },
  {
   "cell_type": "code",
   "execution_count": null,
   "id": "b17d4e78",
   "metadata": {},
   "outputs": [],
   "source": [
    "sns.displot(run['distance_km'])"
   ]
  },
  {
   "cell_type": "code",
   "execution_count": null,
   "id": "d88e0406",
   "metadata": {},
   "outputs": [],
   "source": []
  }
 ],
 "metadata": {
  "interpreter": {
   "hash": "aee8b7b246df8f9039afb4144a1f6fd8d2ca17a180786b69acc140d282b71a49"
  },
  "kernelspec": {
   "display_name": "Python 3 (ipykernel)",
   "language": "python",
   "name": "python3"
  },
  "language_info": {
   "codemirror_mode": {
    "name": "ipython",
    "version": 3
   },
   "file_extension": ".py",
   "mimetype": "text/x-python",
   "name": "python",
   "nbconvert_exporter": "python",
   "pygments_lexer": "ipython3",
   "version": "3.7.11"
  }
 },
 "nbformat": 4,
 "nbformat_minor": 5
}
