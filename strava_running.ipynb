{
 "cells": [
  {
   "cell_type": "code",
   "execution_count": null,
   "id": "b82d458b",
   "metadata": {},
   "outputs": [],
   "source": [
    "# tutorial to follow\n",
    "# https://towardsdatascience.com/using-the-strava-api-and-pandas-to-explore-your-activity-data-d94901d9bfde\n",
    "import requests\n",
    "import urllib3\n",
    "import json\n",
    "import os\n",
    "urllib3.disable_warnings(urllib3.exceptions.InsecureRequestWarning)"
   ]
  },
  {
   "cell_type": "code",
   "execution_count": null,
   "id": "c8a72a07",
   "metadata": {},
   "outputs": [],
   "source": [
    "cd = os.path.abspath(os.getcwd())\n",
    "with open(f'{cd}/config.json') as f:\n",
    "    data = json.load(f)"
   ]
  },
  {
   "cell_type": "code",
   "execution_count": null,
   "id": "4228d24d",
   "metadata": {},
   "outputs": [],
   "source": [
    "auth_url = \"https://www.strava.com/oauth/token\"\n",
    "activites_url = \"https://www.strava.com/api/v3/athlete/activities\"\n",
    "payload = data['payload']"
   ]
  },
  {
   "cell_type": "code",
   "execution_count": null,
   "id": "6c3ad875",
   "metadata": {},
   "outputs": [],
   "source": [
    "res = requests.post(auth_url, data=payload, verify=False)\n",
    "header = {'Authorization': 'Bearer ' + res.json()['access_token']}\n",
    "param = {'per_page': 200, 'page': 1}\n",
    "my_dataset = requests.get(activites_url, headers=header, params=param).json()"
   ]
  },
  {
   "cell_type": "code",
   "execution_count": null,
   "id": "2b6a6b7b",
   "metadata": {},
   "outputs": [],
   "source": [
    "import pandas as pd\n",
    "import seaborn as sns\n",
    "# seaborn is actually built on top of matplotlib\n",
    "import matplotlib.pyplot as plt\n",
    "import numpy as np\n",
    "import datetime"
   ]
  },
  {
   "cell_type": "code",
   "execution_count": null,
   "id": "2d2a6fc6",
   "metadata": {},
   "outputs": [],
   "source": [
    "activities = pd.json_normalize(my_dataset)\n",
    "pd.set_option('display.max_columns', 83)\n",
    "pd.set_option('display.max_colwidth', 25)\n",
    "pd.set_option('display.max_rows', 25)\n",
    "pd.set_option(\"display.precision\", 2)"
   ]
  },
  {
   "cell_type": "code",
   "execution_count": null,
   "id": "929b9817",
   "metadata": {},
   "outputs": [],
   "source": [
    "activities = activities.rename(columns={'average_speed' : 'average_speed_mps', \n",
    "                                        'max_speed' : 'max_speed_mps',\n",
    "                                        'moving_time' : 'moving_time_s',\n",
    "                                        'elapsed_time' : 'elapsed_time_s'})\n",
    "\n",
    "# fix 'start_date_local' and create 2 new columns 'start_time' and 'moving_time(min)'\n",
    "activities['start_date_local'] = pd.to_datetime(activities['start_date_local'])\n",
    "activities['start_time'] = activities['start_date_local'].dt.time\n",
    "activities['start_date_local'] = activities['start_date_local'].dt.strftime(\"%d/%m/%y\")\n",
    "\n",
    "# seconds to minutes\n",
    "activities['moving_time(min)'] = activities['moving_time_s'].apply(lambda x: pd.to_datetime(x, unit='s').strftime('%H:%M:%S'))\n",
    "\n",
    "# meters to kms\n",
    "activities['distance'] = activities[\n",
    "    (activities['type'] == 'Run') |\n",
    "    (activities['type'] == 'Walk')]['distance'] / 1000\n",
    "\n",
    "# meters per second to kms per hour\n",
    "activities['average_speed_mps'] = activities['average_speed_mps'] * (18/5)\n",
    "activities['max_speed_mps'] = activities['max_speed_mps'] * (18/5)\n",
    "\n",
    "# from (GMT+01:00) Europe/Berlin -> Europe/Berlin\n",
    "activities['timezone'] = activities['timezone'].str.split(' ').str[-1]\n",
    "\n",
    "# rename converted columns\n",
    "activities = activities.rename(columns={'average_speed_mps': 'average_speed_kmh',\n",
    "                                        'max_speed_mps' : 'max_speed_kmh',\n",
    "                                        'distance' : 'distance_km'})"
   ]
  },
  {
   "cell_type": "code",
   "execution_count": null,
   "id": "204f1732",
   "metadata": {},
   "outputs": [],
   "source": [
    "cols = ['upload_id', 'name', 'type', 'distance_km', 'moving_time(min)','start_time',  'start_date_local',  'timezone',\n",
    "        'average_speed_kmh', 'max_speed_kmh', 'total_elevation_gain', 'average_heartrate',\n",
    "        'max_heartrate', 'achievement_count', 'kudos_count', 'visibility',  ]\n",
    "activities = activities[cols]"
   ]
  },
  {
   "cell_type": "code",
   "execution_count": null,
   "id": "59bc468e",
   "metadata": {},
   "outputs": [],
   "source": [
    "# usage -> 25.1 KB to 22.6 KB\n",
    "activities['visibility'] = pd.Categorical(activities['visibility'])\n",
    "activities['timezone'] = pd.Categorical(activities['timezone'])"
   ]
  },
  {
   "cell_type": "code",
   "execution_count": null,
   "id": "a0eb4c6c",
   "metadata": {},
   "outputs": [],
   "source": [
    "activities"
   ]
  },
  {
   "cell_type": "code",
   "execution_count": null,
   "id": "58d45b8d",
   "metadata": {},
   "outputs": [],
   "source": [
    "activities.shape"
   ]
  },
  {
   "cell_type": "markdown",
   "id": "7ba4d259",
   "metadata": {},
   "source": [
    " IDEAS\n",
    " check the name: 'run'-> move to a new df['running']\n",
    "                'other' -> df['rest_sessions']\n",
    "activities"
   ]
  },
  {
   "cell_type": "code",
   "execution_count": null,
   "id": "5ace3487",
   "metadata": {},
   "outputs": [],
   "source": []
  },
  {
   "cell_type": "code",
   "execution_count": null,
   "id": "2cbcb349",
   "metadata": {},
   "outputs": [],
   "source": [
    "activities['type'].value_counts()"
   ]
  },
  {
   "cell_type": "code",
   "execution_count": null,
   "id": "7683f78e",
   "metadata": {},
   "outputs": [],
   "source": [
    "run = activities.loc[activities['type'] == 'Run']"
   ]
  },
  {
   "cell_type": "markdown",
   "id": "477e9566",
   "metadata": {},
   "source": [
    "sns.set(style=\"ticks\", context=\"talk\")\n",
    "sns.regplot(x='distance', y='average_speed', data=run).set_title(\"Average Speed vs Distance\")"
   ]
  },
  {
   "cell_type": "markdown",
   "id": "ecff14b6",
   "metadata": {},
   "source": [
    "sns.set(style=\"ticks\", context=\"talk\")\n",
    "sns.regplot(x='distance', y='max_speed', data=run).set_title(\"Max Speed vs Distance\")"
   ]
  },
  {
   "cell_type": "markdown",
   "id": "47eee36c",
   "metadata": {},
   "source": [
    "fig = plt.figure() # overall container\n",
    "ax1 = fig.add_subplot(111) # add 1 by 1 plot to the figure\n",
    "x = np.asarray(run.start_date_local) # convert data to numpy array\n",
    "y = np.asarray(run.average_speed)\n",
    "ax1.plot_date(x, y)\n",
    "ax1.set_title('Average Speed over Time')\n",
    "\n",
    "x2 = mdates.date2num(x) # add a trend line\n",
    "z = np.polyfit(x2, y, 1)\n",
    "p = np.poly1d(z)\n",
    "plt.plot(x, p(x2), 'r--')\n",
    "\n",
    "fig.autofmt_xdate(rotation=45) # format the figure and display\n",
    "fig.tight_layout()\n",
    "fig.show()"
   ]
  },
  {
   "cell_type": "markdown",
   "id": "0ae4b6a2",
   "metadata": {},
   "source": [
    "fig"
   ]
  }
 ],
 "metadata": {
  "interpreter": {
   "hash": "aee8b7b246df8f9039afb4144a1f6fd8d2ca17a180786b69acc140d282b71a49"
  },
  "kernelspec": {
   "display_name": "Python 3 (ipykernel)",
   "language": "python",
   "name": "python3"
  },
  "language_info": {
   "codemirror_mode": {
    "name": "ipython",
    "version": 3
   },
   "file_extension": ".py",
   "mimetype": "text/x-python",
   "name": "python",
   "nbconvert_exporter": "python",
   "pygments_lexer": "ipython3",
   "version": "3.7.11"
  }
 },
 "nbformat": 4,
 "nbformat_minor": 5
}
