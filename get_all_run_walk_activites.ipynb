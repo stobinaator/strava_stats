{
 "cells": [
  {
   "cell_type": "markdown",
   "id": "2fa52e85",
   "metadata": {},
   "source": [
    "### Get all run and walk workouts. clean them and save them to csv files"
   ]
  },
  {
   "cell_type": "code",
   "execution_count": null,
   "id": "7e157bd0",
   "metadata": {},
   "outputs": [],
   "source": [
    "import requests\n",
    "import os\n",
    "import sys\n",
    "import csv\n",
    "import json\n",
    "import urllib3\n",
    "import pandas as pd\n",
    "urllib3.disable_warnings(urllib3.exceptions.InsecureRequestWarning)"
   ]
  },
  {
   "cell_type": "code",
   "execution_count": null,
   "id": "12d0ec0c",
   "metadata": {},
   "outputs": [],
   "source": [
    "pd.set_option('display.max_colwidth', None)"
   ]
  },
  {
   "cell_type": "code",
   "execution_count": null,
   "id": "3b8f26c7",
   "metadata": {},
   "outputs": [],
   "source": [
    "cd = os.path.abspath(os.getcwd())\n",
    "with open(f'{cd}/config.json') as f:\n",
    "    data = json.load(f)"
   ]
  },
  {
   "cell_type": "code",
   "execution_count": null,
   "id": "7bd059c6",
   "metadata": {},
   "outputs": [],
   "source": [
    "auth_url = \"https://www.strava.com/oauth/token\"\n",
    "payload = data['payload']\n",
    "res = requests.post(auth_url, data=payload, verify=False)\n",
    "headers = {'Authorization': \"Bearer \" + res.json()['access_token']}\n",
    "\n",
    "with open(f\"{cd}/csvs/runs.csv\", \"w\") as runs_file, open(f\"{cd}/csvs/walks.csv\", \"w\") as walks_file:\n",
    "    for page in range(1,100):\n",
    "        r = requests.get(f\"https://www.strava.com/api/v3/athlete/activities\", headers = headers, params={'per_page': 200, 'page': page})\n",
    "        response = r.json()\n",
    "        \n",
    "        runs_writer = csv.writer(runs_file, delimiter=\",\")\n",
    "        runs_writer.writerow([\"id\", \"polyline\"])\n",
    "        \n",
    "        walks_writer = csv.writer(walks_file, delimiter=\",\")\n",
    "        walks_writer.writerow([\"id\", \"polyline\"])\n",
    "        \n",
    "        for activity in response:\n",
    "            if activity['type'] == 'Run':\n",
    "                polyline = activity[\"map\"][\"summary_polyline\"]\n",
    "                if polyline != 'polyline':\n",
    "                    runs_writer.writerow([activity[\"id\"], polyline])\n",
    "            elif activity['type'] == 'Walk':\n",
    "                polyline = activity[\"map\"][\"summary_polyline\"]\n",
    "                if polyline != 'polyline':\n",
    "                    walks_writer.writerow([activity[\"id\"], polyline])"
   ]
  },
  {
   "cell_type": "code",
   "execution_count": null,
   "id": "9a119074",
   "metadata": {},
   "outputs": [],
   "source": [
    "with open('csvs/runs.csv') as r_f, open('csvs/walks.csv') as w_f:\n",
    "    runs_list = pd.read_csv(r_f)\n",
    "    walks_list = pd.read_csv(w_f)"
   ]
  },
  {
   "cell_type": "code",
   "execution_count": null,
   "id": "1bc29f44",
   "metadata": {},
   "outputs": [],
   "source": [
    "# (408, 2) -> (274, 2)\n",
    "walks_list_clean = walks_list[~(walks_list.polyline == 'polyline')]\n",
    "walks_list_clean.dropna(subset=['polyline'], inplace=True)\n",
    "# (277, 2) -> (185, 2)\n",
    "runs_list_clean = runs_list[~(runs_list.polyline == 'polyline')]\n",
    "runs_list_clean.dropna(subset=['polyline'], inplace=True)"
   ]
  },
  {
   "cell_type": "code",
   "execution_count": null,
   "id": "0c8a781a",
   "metadata": {},
   "outputs": [],
   "source": [
    "with open('csvs/clean_runs.csv', 'w') as r_f, open('csvs/clean_walks.csv', 'w') as w_f:\n",
    "    runs_list_clean.to_csv(r_f)\n",
    "    walks_list_clean.to_csv(w_f)"
   ]
  },
  {
   "cell_type": "code",
   "execution_count": null,
   "id": "8188219b",
   "metadata": {},
   "outputs": [],
   "source": []
  }
 ],
 "metadata": {
  "kernelspec": {
   "display_name": "Python 3 (ipykernel)",
   "language": "python",
   "name": "python3"
  },
  "language_info": {
   "codemirror_mode": {
    "name": "ipython",
    "version": 3
   },
   "file_extension": ".py",
   "mimetype": "text/x-python",
   "name": "python",
   "nbconvert_exporter": "python",
   "pygments_lexer": "ipython3",
   "version": "3.7.11"
  }
 },
 "nbformat": 4,
 "nbformat_minor": 5
}
