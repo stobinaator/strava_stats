{
 "cells": [
  {
   "cell_type": "code",
   "execution_count": 1,
   "id": "b82d458b",
   "metadata": {},
   "outputs": [],
   "source": [
    "import requests\n",
    "import urllib3\n",
    "import json\n",
    "import csv\n",
    "import os\n",
    "import datetime\n",
    "\n",
    "import pandas as pd\n",
    "import seaborn as sns\n",
    "import matplotlib.pyplot as plt\n",
    "import numpy as np\n",
    "import scipy\n",
    "\n",
    "from typing import Tuple\n",
    "\n",
    "urllib3.disable_warnings(urllib3.exceptions.InsecureRequestWarning)"
   ]
  },
  {
   "cell_type": "code",
   "execution_count": 2,
   "id": "2d2a6fc6",
   "metadata": {
    "tags": []
   },
   "outputs": [],
   "source": [
    "pd.set_option('display.max_columns', 83)\n",
    "pd.set_option('display.max_colwidth', 25)\n",
    "pd.set_option('display.max_rows', None)\n",
    "pd.set_option(\"display.precision\", 2)\n",
    "sns.set(rc={'figure.figsize':(12.7,8.27)})"
   ]
  },
  {
   "cell_type": "code",
   "execution_count": 3,
   "id": "ae906523",
   "metadata": {},
   "outputs": [],
   "source": [
    "# Type Aliases\n",
    "DataFrameTuple = Tuple[pd.DataFrame, pd.DataFrame]"
   ]
  },
  {
   "cell_type": "code",
   "execution_count": 4,
   "id": "c7261503",
   "metadata": {},
   "outputs": [],
   "source": [
    "cd = os.path.abspath(os.getcwd())\n",
    "with open(f'{cd}/not_needed/config_personal.json') as f:\n",
    "    data = json.load(f)"
   ]
  },
  {
   "cell_type": "code",
   "execution_count": 5,
   "id": "46c439bf",
   "metadata": {},
   "outputs": [],
   "source": [
    "def retrieve_activities() -> pd.DataFrame:\n",
    "    auth_url = \"https://www.strava.com/oauth/token\"\n",
    "    activites_url = \"https://www.strava.com/api/v3/athlete/activities\"\n",
    "    payload = data['payload']\n",
    "    res = requests.post(auth_url, data=payload, verify=False)\n",
    "    header = {'Authorization': 'Bearer ' + res.json()['access_token']}\n",
    "\n",
    "    my_activities = pd.DataFrame()\n",
    "    for page in range(1,7):\n",
    "        my_dataset = requests.get(activites_url, headers=header, params={'per_page': 200, 'page': page}).json()\n",
    "        my_dataframe = pd.json_normalize(my_dataset)\n",
    "        my_activities = pd.concat([my_activities, my_dataframe], ignore_index=True)\n",
    "    return my_activities"
   ]
  },
  {
   "cell_type": "code",
   "execution_count": 6,
   "id": "53bc6a0a",
   "metadata": {},
   "outputs": [],
   "source": [
    "def save_raw_activities(my_activities: pd.DataFrame) -> None:\n",
    "    my_activities.to_csv(f'{cd}/csvs/raw/all_activities_raw.csv')"
   ]
  },
  {
   "cell_type": "code",
   "execution_count": 7,
   "id": "8f12aa1b",
   "metadata": {},
   "outputs": [],
   "source": [
    "def structure_activities() -> pd.DataFrame:\n",
    "        my_activities = (pd.read_csv(f'{cd}/csvs/raw/all_activities_raw.csv')\n",
    "                        .rename(columns=str.lower)\n",
    "                        .drop(['unnamed: 0', 'resource_state'], axis = 1)\n",
    "                        .rename(columns={\n",
    "                                'average_speed' : 'average_speed_mps', \n",
    "                                'max_speed' : 'max_speed_mps',\n",
    "                                'moving_time' : 'moving_time_s',\n",
    "                                'elapsed_time' : 'elapsed_time_s'})\n",
    "                        .assign(start_date_local= lambda x: pd.to_datetime(x['start_date_local']),\n",
    "                                start_time= lambda x: x['start_date_local'].dt.time)\n",
    "                        .assign(start_date_local = lambda x: x['start_date_local'].dt.strftime(\"%Y/%m/%d\"),\n",
    "                                timezone = lambda x: pd.Categorical(x['timezone'].str.split(' ').str[-1],))\n",
    "                        .assign(start_date_local = lambda x: pd.to_datetime(x['start_date_local']),\n",
    "                                start_day_name = lambda x: pd.Categorical(x['start_date_local'].dt.strftime(\"%A\")),\n",
    "                                moving_time_min = lambda x: pd.to_datetime(x['moving_time_s'], unit='s').dt.strftime('%H:%M:%S'),\n",
    "                                average_speed_kmh = lambda x: x['average_speed_mps'] * (18/5),\n",
    "                                max_speed_kmh = lambda x: x['max_speed_mps'] * (18/5),\n",
    "                                distance_km = lambda x: x[(x['type'] == 'Run') | (x['type'] == 'Walk')]['distance']/1000,\n",
    "                                visibility = lambda x: pd.Categorical(x['visibility']),\n",
    "                                name = lambda x: pd.Categorical(x['name']),\n",
    "                                type = lambda x: pd.Categorical(x['type'])))\n",
    "        return my_activities"
   ]
  },
  {
   "cell_type": "code",
   "execution_count": 8,
   "id": "fd7a8289",
   "metadata": {},
   "outputs": [],
   "source": [
    "def split_into_run_walk(my_activities: pd.DataFrame) -> DataFrameTuple:\n",
    "    runs_maps = my_activities[my_activities['type'] == 'Run'][['id', 'map.summary_polyline']]\n",
    "    walks_maps = my_activities[my_activities['type'] == 'Walk'][['id', 'map.summary_polyline']]\n",
    "    runs_maps = runs_maps.dropna()\n",
    "    walks_maps = walks_maps.dropna()\n",
    "    return runs_maps, walks_maps"
   ]
  },
  {
   "cell_type": "code",
   "execution_count": 9,
   "id": "1cde6d62",
   "metadata": {},
   "outputs": [],
   "source": [
    "def save_runs_walks(runs_maps: pd.DataFrame, walks_maps: pd.DataFrame) -> None:\n",
    "    runs_maps.to_csv(f'{cd}/csvs/clean/runs.csv')\n",
    "    walks_maps.to_csv(f'{cd}/csvs/clean/walks.csv')"
   ]
  },
  {
   "cell_type": "code",
   "execution_count": 10,
   "id": "d358b20d",
   "metadata": {},
   "outputs": [],
   "source": [
    "def clean_up_activities(my_activities: pd.DataFrame) -> pd.DataFrame:\n",
    "    cols = ['upload_id', 'name', 'type', 'distance_km', 'moving_time_min','start_time',  'start_date_local', 'start_day_name', \n",
    "            'timezone','average_speed_kmh', 'max_speed_kmh', 'total_elevation_gain', 'average_heartrate',\n",
    "            'max_heartrate', 'achievement_count', 'kudos_count', 'visibility']\n",
    "    my_acts = my_activities[cols]\n",
    "    return my_acts"
   ]
  },
  {
   "cell_type": "code",
   "execution_count": 11,
   "id": "6aef3741",
   "metadata": {},
   "outputs": [],
   "source": [
    "def save_cleaned_activities(my_acts: pd.DataFrame) -> None:\n",
    "    my_acts.to_csv(f'{cd}/csvs/clean/all_activities.csv')"
   ]
  },
  {
   "cell_type": "code",
   "execution_count": 12,
   "id": "749a0c6d-5d76-4e10-b15a-b626191e737a",
   "metadata": {},
   "outputs": [],
   "source": [
    "my_activities_raw = retrieve_activities()\n",
    "save_raw_activities(my_activities_raw)"
   ]
  },
  {
   "cell_type": "code",
   "execution_count": 13,
   "id": "6fd7e9e9-9b59-483b-8f78-4ce7e8116b6a",
   "metadata": {},
   "outputs": [],
   "source": [
    "my_activities = structure_activities()\n",
    "runs_maps, walks_maps = split_into_run_walk(my_activities)\n",
    "save_runs_walks(runs_maps, walks_maps)"
   ]
  },
  {
   "cell_type": "code",
   "execution_count": 14,
   "id": "bd64b69a-1fca-408c-ba24-f26764a0e12c",
   "metadata": {},
   "outputs": [],
   "source": [
    "activities_lite = clean_up_activities(my_activities)\n",
    "save_cleaned_activities(activities_lite)"
   ]
  },
  {
   "cell_type": "code",
   "execution_count": 19,
   "id": "08b04092",
   "metadata": {},
   "outputs": [],
   "source": [
    "activities = pd.read_csv(f'{cd}/csvs/clean/all_activities.csv', delimiter=',' , encoding='iso-8859-1', index_col=[0])"
   ]
  },
  {
   "cell_type": "code",
   "execution_count": 20,
   "id": "7683f78e",
   "metadata": {},
   "outputs": [],
   "source": [
    "run = activities.loc[activities['type'] == 'Run']\n",
    "walk = activities.loc[activities['type'] == 'Walk']\n",
    "run_5_more = run[run['distance_km'] > 5]"
   ]
  },
  {
   "cell_type": "markdown",
   "id": "4621163c",
   "metadata": {},
   "source": [
    "## PLOTTING"
   ]
  },
  {
   "cell_type": "markdown",
   "id": "a581ec6c",
   "metadata": {
    "jp-MarkdownHeadingCollapsed": true,
    "tags": []
   },
   "source": [
    "#### Countplots"
   ]
  },
  {
   "cell_type": "code",
   "execution_count": null,
   "id": "ae5fed76",
   "metadata": {},
   "outputs": [],
   "source": [
    "sns.countplot(x='type',\n",
    "              data=activities)"
   ]
  },
  {
   "cell_type": "code",
   "execution_count": null,
   "id": "c5fe3c0c",
   "metadata": {},
   "outputs": [],
   "source": [
    "sns.countplot(x='start_day_name', data=run)"
   ]
  },
  {
   "cell_type": "code",
   "execution_count": null,
   "id": "2d77e41f",
   "metadata": {},
   "outputs": [],
   "source": [
    "sns.countplot(x='start_day_name', data=walk)"
   ]
  },
  {
   "cell_type": "code",
   "execution_count": null,
   "id": "0572d0d8",
   "metadata": {},
   "outputs": [],
   "source": [
    "sns.countplot(x='name', \n",
    "              data=run, \n",
    "              order=pd.value_counts(run['name']).iloc[:4].index)\n",
    "locs, labels = plt.xticks(rotation=45, fontsize=8)\n",
    "plt.title(\"Different named runs and their couns\")\n",
    "plt.xlabel(\"Name of run\")\n",
    "plt.ylabel(\"Count\")"
   ]
  },
  {
   "cell_type": "markdown",
   "id": "72c9d3a9",
   "metadata": {
    "jp-MarkdownHeadingCollapsed": true,
    "tags": []
   },
   "source": [
    "#### Relplots"
   ]
  },
  {
   "cell_type": "code",
   "execution_count": null,
   "id": "7d1cc2ba",
   "metadata": {},
   "outputs": [],
   "source": [
    "sns.relplot(x='start_day_name', y='distance_km', hue='name',\n",
    "              data=run_5_more\n",
    "           )\n",
    "locs, labels = plt.xticks(rotation=45, fontsize=8)\n",
    "plt.title(\"Different days of week and distances\")\n",
    "plt.xlabel(\"Days\")\n",
    "plt.ylabel(\"Distance\")"
   ]
  },
  {
   "cell_type": "code",
   "execution_count": null,
   "id": "95b56cb9",
   "metadata": {},
   "outputs": [],
   "source": [
    "# Find max for each day\n",
    "sns.relplot(x='start_day_name', y='distance_km', \n",
    "            kind='line', ci=None,\n",
    "            data=run)\n",
    "locs, labels = plt.xticks(rotation=45, fontsize=15)\n",
    "plt.title(\"Different days of week and distances\")\n",
    "plt.xlabel(\"Days\")\n",
    "plt.ylabel(\"Distance\")"
   ]
  },
  {
   "cell_type": "code",
   "execution_count": null,
   "id": "5c400087",
   "metadata": {},
   "outputs": [],
   "source": [
    "sns.relplot(x='distance_km', y='moving_time(min)', hue='start_day_name',\n",
    "            col='start_day_name', col_wrap=3, data=run)"
   ]
  },
  {
   "cell_type": "markdown",
   "id": "ddbed21a",
   "metadata": {
    "jp-MarkdownHeadingCollapsed": true,
    "tags": []
   },
   "source": [
    "#### Pointplots"
   ]
  },
  {
   "cell_type": "code",
   "execution_count": null,
   "id": "ff503568",
   "metadata": {},
   "outputs": [],
   "source": [
    "sns.pointplot(x='start_day_name', y='distance_km',  data=run_5_more)\n",
    "plt.title(\"Different days of week and distances 5km and more\")\n",
    "plt.xlabel(\"Days\")\n",
    "plt.ylabel(\"Distance\")"
   ]
  },
  {
   "cell_type": "markdown",
   "id": "90d5b884",
   "metadata": {
    "jp-MarkdownHeadingCollapsed": true,
    "tags": []
   },
   "source": [
    "#### Violinplots"
   ]
  },
  {
   "cell_type": "code",
   "execution_count": null,
   "id": "8af6ae20",
   "metadata": {},
   "outputs": [],
   "source": [
    "sns.violinplot(x='start_day_name', y='distance_km', palette='muted', data=run)\n",
    "plt.title(\"Different days of week and distances\")\n",
    "plt.xlabel(\"Days\")\n",
    "plt.ylabel(\"Distance\")"
   ]
  },
  {
   "cell_type": "markdown",
   "id": "2f38b93c",
   "metadata": {
    "jp-MarkdownHeadingCollapsed": true,
    "tags": []
   },
   "source": [
    "#### Scatterplots + FacetGrid"
   ]
  },
  {
   "cell_type": "code",
   "execution_count": null,
   "id": "6889096d",
   "metadata": {},
   "outputs": [],
   "source": [
    "sns.scatterplot(x='distance_km',\n",
    "                y='moving_time(min)',\n",
    " b               data=run_5_more)\n",
    "locs,label = plt.xticks(rotation=90, fontsize=3)"
   ]
  },
  {
   "cell_type": "code",
   "execution_count": null,
   "id": "2991da4a",
   "metadata": {},
   "outputs": [],
   "source": [
    "g = sns.FacetGrid(run, col='start_day_name', col_wrap=2)\n",
    "g = g.map(sns.scatterplot, 'distance_km', 'max_speed_kmh')\n",
    "#plt.title(\"Different days of week and distances\")\n"
   ]
  },
  {
   "cell_type": "markdown",
   "id": "f6dc6cde",
   "metadata": {
    "jp-MarkdownHeadingCollapsed": true,
    "tags": []
   },
   "source": [
    "#### Regplots"
   ]
  },
  {
   "cell_type": "code",
   "execution_count": null,
   "id": "10a1ef1d",
   "metadata": {},
   "outputs": [],
   "source": [
    "sns.set(style=\"ticks\", context=\"talk\")\n",
    "sns.regplot(x=\"distance_km\", y=\"average_speed_kmh\", data=run).set_title(\"Average Speed vs Distance\")"
   ]
  },
  {
   "cell_type": "code",
   "execution_count": null,
   "id": "db28ef7f",
   "metadata": {},
   "outputs": [],
   "source": [
    "sns.set(style=\"ticks\", context=\"talk\")\n",
    "sns.regplot(x='distance_km', y='max_speed_kmh', data=run).set_title(\"Max Speed vs Distance\")"
   ]
  },
  {
   "cell_type": "code",
   "execution_count": null,
   "id": "891a0e86",
   "metadata": {},
   "outputs": [],
   "source": [
    "sns.boxplot(x='name',y='distance_km',data=run_5_more)\n",
    "locs, labels = plt.xticks(rotation=45, fontsize=12)"
   ]
  },
  {
   "cell_type": "markdown",
   "id": "7588fed1",
   "metadata": {
    "jp-MarkdownHeadingCollapsed": true,
    "tags": []
   },
   "source": [
    "#### Distplots"
   ]
  },
  {
   "cell_type": "code",
   "execution_count": null,
   "id": "b17d4e78",
   "metadata": {},
   "outputs": [],
   "source": [
    "sns.displot(run['distance_km'])"
   ]
  }
 ],
 "metadata": {
  "interpreter": {
   "hash": "30fe809fb8278332ee345f0acfc50f5e68c36f75184892e7cc71b4d9cb8e916b"
  },
  "kernelspec": {
   "display_name": "Python 3.7.11 64-bit ('strava': conda)",
   "name": "python3"
  },
  "language_info": {
   "codemirror_mode": {
    "name": "ipython",
    "version": 3
   },
   "file_extension": ".py",
   "mimetype": "text/x-python",
   "name": "python",
   "nbconvert_exporter": "python",
   "pygments_lexer": "ipython3",
   "version": "3.7.11"
  }
 },
 "nbformat": 4,
 "nbformat_minor": 5
}
