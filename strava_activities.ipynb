{
 "cells": [
  {
   "cell_type": "code",
   "execution_count": 1,
   "id": "b82d458b",
   "metadata": {},
   "outputs": [],
   "source": [
    "import requests\n",
    "import urllib3\n",
    "import json\n",
    "import csv\n",
    "import os\n",
    "import datetime\n",
    "\n",
    "import pandas as pd\n",
    "import seaborn as sns\n",
    "import matplotlib.pyplot as plt\n",
    "import numpy as np\n",
    "import scipy\n",
    "\n",
    "urllib3.disable_warnings(urllib3.exceptions.InsecureRequestWarning)"
   ]
  },
  {
   "cell_type": "code",
   "execution_count": 2,
   "id": "2d2a6fc6",
   "metadata": {},
   "outputs": [],
   "source": [
    "pd.set_option('display.max_columns', 83)\n",
    "pd.set_option('display.max_colwidth', 25)\n",
    "pd.set_option('display.max_rows', None)\n",
    "pd.set_option(\"display.precision\", 2)\n",
    "sns.set(rc={'figure.figsize':(12.7,8.27)})"
   ]
  },
  {
   "cell_type": "code",
   "execution_count": 5,
   "id": "c7261503",
   "metadata": {},
   "outputs": [],
   "source": [
    "cd = os.path.abspath(os.getcwd())\n",
    "with open(f'{cd}/not_needed/config_personal.json') as f:\n",
    "    data = json.load(f)"
   ]
  },
  {
   "cell_type": "markdown",
   "id": "3102310b",
   "metadata": {},
   "source": [
    "### getting activities from strava api"
   ]
  },
  {
   "cell_type": "code",
   "execution_count": 6,
   "id": "46c439bf",
   "metadata": {},
   "outputs": [],
   "source": [
    "auth_url = \"https://www.strava.com/oauth/token\"\n",
    "activites_url = \"https://www.strava.com/api/v3/athlete/activities\"\n",
    "payload = data['payload']\n",
    "res = requests.post(auth_url, data=payload, verify=False)\n",
    "header = {'Authorization': 'Bearer ' + res.json()['access_token']}\n",
    "\n",
    "my_activities = pd.DataFrame()\n",
    "for page in range(1,7):\n",
    "    my_dataset = requests.get(activites_url, headers=header, params={'per_page': 200, 'page': page}).json()\n",
    "    my_dataframe = pd.json_normalize(my_dataset)\n",
    "    my_activities = pd.concat([my_activities, my_dataframe], ignore_index=True)"
   ]
  },
  {
   "cell_type": "code",
   "execution_count": 7,
   "id": "559b1d8a",
   "metadata": {
    "collapsed": true
   },
   "outputs": [
    {
     "data": {
      "text/plain": [
       "(1149, 57)"
      ]
     },
     "execution_count": 7,
     "metadata": {},
     "output_type": "execute_result"
    }
   ],
   "source": [
    "my_activities.shape"
   ]
  },
  {
   "cell_type": "markdown",
   "id": "ef848d78",
   "metadata": {},
   "source": [
    "##### write raw activities/ read them again and convert some columns\n",
    "#### get runs and walks, remove NaNs/write them also back\n",
    "#### last but not least write cleaned_activities back."
   ]
  },
  {
   "cell_type": "code",
   "execution_count": 8,
   "id": "53bc6a0a",
   "metadata": {},
   "outputs": [],
   "source": [
    "with open(f'{cd}/csvs/raw/all_activities_raw.csv', 'w') as f:\n",
    "    my_activities.to_csv(f)"
   ]
  },
  {
   "cell_type": "code",
   "execution_count": 9,
   "id": "8f12aa1b",
   "metadata": {},
   "outputs": [],
   "source": [
    "with open(f'{cd}/csvs/raw/all_activities_raw.csv') as f:\n",
    "    my_activities = (pd.read_csv(f)\n",
    "                    .rename(columns=str.lower)\n",
    "                    .drop(['unnamed: 0', 'resource_state'], axis = 1)\n",
    "                    .rename(columns={\n",
    "                        'average_speed' : 'average_speed_mps', \n",
    "                        'max_speed' : 'max_speed_mps',\n",
    "                        'moving_time' : 'moving_time_s',\n",
    "                        'elapsed_time' : 'elapsed_time_s'})\n",
    "                    .assign(start_date_local= lambda x: pd.to_datetime(x['start_date_local']),\n",
    "                            start_time= lambda x: x['start_date_local'].dt.time)\n",
    "                    .assign(start_date_local = lambda x: x['start_date_local'].dt.strftime(\"%Y/%m/%d\"),\n",
    "                            timezone = lambda x: pd.Categorical(x['timezone'].str.split(' ').str[-1],))\n",
    "                    .assign(start_date_local = lambda x: pd.to_datetime(x['start_date_local']),\n",
    "                            start_day_name = lambda x: pd.Categorical(x['start_date_local'].dt.strftime(\"%A\")),\n",
    "                            moving_time_min = lambda x: pd.to_datetime(x['moving_time_s'], unit='s').dt.strftime('%H:%M:%S'),\n",
    "                            average_speed_kmh = lambda x: x['average_speed_mps'] * (18/5),\n",
    "                            max_speed_kmh = lambda x: x['max_speed_mps'] * (18/5),\n",
    "                            distance_km = lambda x: x[(x['type'] == 'Run') | (x['type'] == 'Walk')]['distance']/1000,\n",
    "                            visibility = lambda x: pd.Categorical(x['visibility']),\n",
    "                            name = lambda x: pd.Categorical(x['name']),\n",
    "                            type = lambda x: pd.Categorical(x['type'])))"
   ]
  },
  {
   "cell_type": "code",
   "execution_count": 10,
   "id": "5f5389f3",
   "metadata": {
    "collapsed": true
   },
   "outputs": [
    {
     "name": "stdout",
     "output_type": "stream",
     "text": [
      "<class 'pandas.core.frame.DataFrame'>\n",
      "RangeIndex: 1149 entries, 0 to 1148\n",
      "Data columns (total 62 columns):\n",
      " #   Column                         Non-Null Count  Dtype         \n",
      "---  ------                         --------------  -----         \n",
      " 0   name                           1149 non-null   category      \n",
      " 1   distance                       1149 non-null   float64       \n",
      " 2   moving_time_s                  1149 non-null   int64         \n",
      " 3   elapsed_time_s                 1149 non-null   int64         \n",
      " 4   total_elevation_gain           1149 non-null   float64       \n",
      " 5   type                           1149 non-null   category      \n",
      " 6   id                             1149 non-null   int64         \n",
      " 7   external_id                    1149 non-null   object        \n",
      " 8   upload_id                      1149 non-null   int64         \n",
      " 9   start_date                     1149 non-null   object        \n",
      " 10  start_date_local               1149 non-null   datetime64[ns]\n",
      " 11  timezone                       1149 non-null   category      \n",
      " 12  utc_offset                     1149 non-null   float64       \n",
      " 13  start_latlng                   1149 non-null   object        \n",
      " 14  end_latlng                     1149 non-null   object        \n",
      " 15  location_city                  0 non-null      float64       \n",
      " 16  location_state                 0 non-null      float64       \n",
      " 17  location_country               0 non-null      float64       \n",
      " 18  start_latitude                 502 non-null    float64       \n",
      " 19  start_longitude                502 non-null    float64       \n",
      " 20  achievement_count              1149 non-null   int64         \n",
      " 21  kudos_count                    1149 non-null   int64         \n",
      " 22  comment_count                  1149 non-null   int64         \n",
      " 23  athlete_count                  1149 non-null   int64         \n",
      " 24  photo_count                    1149 non-null   int64         \n",
      " 25  trainer                        1149 non-null   bool          \n",
      " 26  commute                        1149 non-null   bool          \n",
      " 27  manual                         1149 non-null   bool          \n",
      " 28  private                        1149 non-null   bool          \n",
      " 29  visibility                     1149 non-null   category      \n",
      " 30  flagged                        1149 non-null   bool          \n",
      " 31  gear_id                        353 non-null    object        \n",
      " 32  from_accepted_tag              1149 non-null   bool          \n",
      " 33  upload_id_str                  1149 non-null   int64         \n",
      " 34  average_speed_mps              1149 non-null   float64       \n",
      " 35  max_speed_mps                  1149 non-null   float64       \n",
      " 36  has_heartrate                  1149 non-null   bool          \n",
      " 37  average_heartrate              1078 non-null   float64       \n",
      " 38  max_heartrate                  1078 non-null   float64       \n",
      " 39  heartrate_opt_out              1149 non-null   bool          \n",
      " 40  display_hide_heartrate_option  1149 non-null   bool          \n",
      " 41  elev_high                      502 non-null    float64       \n",
      " 42  elev_low                       502 non-null    float64       \n",
      " 43  pr_count                       1149 non-null   int64         \n",
      " 44  total_photo_count              1149 non-null   int64         \n",
      " 45  has_kudoed                     1149 non-null   bool          \n",
      " 46  suffer_score                   1078 non-null   float64       \n",
      " 47  athlete.id                     1149 non-null   int64         \n",
      " 48  athlete.resource_state         1149 non-null   int64         \n",
      " 49  map.id                         1149 non-null   object        \n",
      " 50  map.summary_polyline           502 non-null    object        \n",
      " 51  map.resource_state             1149 non-null   int64         \n",
      " 52  workout_type                   160 non-null    float64       \n",
      " 53  average_watts                  3 non-null      float64       \n",
      " 54  kilojoules                     3 non-null      float64       \n",
      " 55  device_watts                   3 non-null      object        \n",
      " 56  start_time                     1149 non-null   object        \n",
      " 57  start_day_name                 1149 non-null   category      \n",
      " 58  moving_time_min                1149 non-null   object        \n",
      " 59  average_speed_kmh              1149 non-null   float64       \n",
      " 60  max_speed_kmh                  1149 non-null   float64       \n",
      " 61  distance_km                    536 non-null    float64       \n",
      "dtypes: bool(10), category(5), datetime64[ns](1), float64(21), int64(15), object(10)\n",
      "memory usage: 442.6+ KB\n"
     ]
    }
   ],
   "source": [
    "my_activities.info()"
   ]
  },
  {
   "cell_type": "code",
   "execution_count": 11,
   "id": "fd7a8289",
   "metadata": {},
   "outputs": [],
   "source": [
    "runs_maps = my_activities[my_activities['type'] == 'Run'][['id', 'map.summary_polyline']]\n",
    "walks_maps = my_activities[my_activities['type'] == 'Walk'][['id', 'map.summary_polyline']]\n",
    "runs_maps = runs_maps.dropna()\n",
    "walks_maps = walks_maps.dropna()"
   ]
  },
  {
   "cell_type": "code",
   "execution_count": 12,
   "id": "1cde6d62",
   "metadata": {},
   "outputs": [],
   "source": [
    "with open(f'{cd}/csvs/clean/runs.csv', 'w') as runs_file, open(f'{cd}/csvs/clean/walks.csv', 'w') as walks_file:\n",
    "    runs_maps.to_csv(runs_file)\n",
    "    walks_maps.to_csv(walks_file)"
   ]
  },
  {
   "cell_type": "code",
   "execution_count": 13,
   "id": "d358b20d",
   "metadata": {},
   "outputs": [],
   "source": [
    "cols = ['upload_id', 'name', 'type', 'distance_km', 'moving_time_min','start_time',  'start_date_local', 'start_day_name', \n",
    "        'timezone','average_speed_kmh', 'max_speed_kmh', 'total_elevation_gain', 'average_heartrate',\n",
    "        'max_heartrate', 'achievement_count', 'kudos_count', 'visibility']\n",
    "my_acts = my_activities[cols]"
   ]
  },
  {
   "cell_type": "code",
   "execution_count": 14,
   "id": "24dd4c80",
   "metadata": {
    "collapsed": true
   },
   "outputs": [
    {
     "name": "stdout",
     "output_type": "stream",
     "text": [
      "<class 'pandas.core.frame.DataFrame'>\n",
      "RangeIndex: 1149 entries, 0 to 1148\n",
      "Data columns (total 17 columns):\n",
      " #   Column                Non-Null Count  Dtype         \n",
      "---  ------                --------------  -----         \n",
      " 0   upload_id             1149 non-null   int64         \n",
      " 1   name                  1149 non-null   category      \n",
      " 2   type                  1149 non-null   category      \n",
      " 3   distance_km           536 non-null    float64       \n",
      " 4   moving_time_min       1149 non-null   object        \n",
      " 5   start_time            1149 non-null   object        \n",
      " 6   start_date_local      1149 non-null   datetime64[ns]\n",
      " 7   start_day_name        1149 non-null   category      \n",
      " 8   timezone              1149 non-null   category      \n",
      " 9   average_speed_kmh     1149 non-null   float64       \n",
      " 10  max_speed_kmh         1149 non-null   float64       \n",
      " 11  total_elevation_gain  1149 non-null   float64       \n",
      " 12  average_heartrate     1078 non-null   float64       \n",
      " 13  max_heartrate         1078 non-null   float64       \n",
      " 14  achievement_count     1149 non-null   int64         \n",
      " 15  kudos_count           1149 non-null   int64         \n",
      " 16  visibility            1149 non-null   category      \n",
      "dtypes: category(5), datetime64[ns](1), float64(6), int64(3), object(2)\n",
      "memory usage: 117.2+ KB\n"
     ]
    }
   ],
   "source": [
    "my_acts.info()"
   ]
  },
  {
   "cell_type": "code",
   "execution_count": 15,
   "id": "6aef3741",
   "metadata": {},
   "outputs": [],
   "source": [
    "with open(f'{cd}/csvs/clean/all_activities.csv', 'w') as activs_f:\n",
    "    my_acts.to_csv(activs_f)"
   ]
  },
  {
   "cell_type": "markdown",
   "id": "c8c5dba0",
   "metadata": {},
   "source": [
    "##### save cleaned activities"
   ]
  },
  {
   "cell_type": "code",
   "execution_count": null,
   "id": "ebb8c960",
   "metadata": {},
   "outputs": [],
   "source": []
  },
  {
   "cell_type": "code",
   "execution_count": null,
   "id": "08b04092",
   "metadata": {},
   "outputs": [],
   "source": [
    "with open(f'{cd}/csvs/clean/all_activities.csv', 'r') as activs_f:\n",
    "    activities = pd.read_csv(activs_f, delimiter=',' , encoding='iso-8859-1', index_col=[0])"
   ]
  },
  {
   "cell_type": "code",
   "execution_count": null,
   "id": "7683f78e",
   "metadata": {},
   "outputs": [],
   "source": [
    "run = activities.loc[activities['type'] == 'Run']\n",
    "walk = activities.loc[activities['type'] == 'Walk']\n",
    "run_5_more = run[run['distance_km'] > 5]"
   ]
  },
  {
   "cell_type": "markdown",
   "id": "a581ec6c",
   "metadata": {},
   "source": [
    "#### Countplots"
   ]
  },
  {
   "cell_type": "code",
   "execution_count": null,
   "id": "ae5fed76",
   "metadata": {},
   "outputs": [],
   "source": [
    "sns.countplot(x='type',\n",
    "              data=activities)"
   ]
  },
  {
   "cell_type": "code",
   "execution_count": null,
   "id": "c5fe3c0c",
   "metadata": {},
   "outputs": [],
   "source": [
    "sns.countplot(x='start_day_name', data=run)"
   ]
  },
  {
   "cell_type": "code",
   "execution_count": null,
   "id": "2d77e41f",
   "metadata": {},
   "outputs": [],
   "source": [
    "sns.countplot(x='start_day_name', data=walk)"
   ]
  },
  {
   "cell_type": "code",
   "execution_count": null,
   "id": "0572d0d8",
   "metadata": {},
   "outputs": [],
   "source": [
    "sns.countplot(x='name', \n",
    "              data=run, \n",
    "              order=pd.value_counts(run['name']).iloc[:4].index)\n",
    "locs, labels = plt.xticks(rotation=45, fontsize=8)\n",
    "plt.title(\"Different named runs and their couns\")\n",
    "plt.xlabel(\"Name of run\")\n",
    "plt.ylabel(\"Count\")"
   ]
  },
  {
   "cell_type": "markdown",
   "id": "72c9d3a9",
   "metadata": {},
   "source": [
    "#### Relplots"
   ]
  },
  {
   "cell_type": "code",
   "execution_count": null,
   "id": "7d1cc2ba",
   "metadata": {},
   "outputs": [],
   "source": [
    "sns.relplot(x='start_day_name', y='distance_km', hue='name',\n",
    "              data=run_5_more\n",
    "           )\n",
    "locs, labels = plt.xticks(rotation=45, fontsize=8)\n",
    "plt.title(\"Different days of week and distances\")\n",
    "plt.xlabel(\"Days\")\n",
    "plt.ylabel(\"Distance\")"
   ]
  },
  {
   "cell_type": "code",
   "execution_count": null,
   "id": "95b56cb9",
   "metadata": {},
   "outputs": [],
   "source": [
    "# Find max for each day\n",
    "sns.relplot(x='start_day_name', y='distance_km', \n",
    "            kind='line', ci=None,\n",
    "            data=run)\n",
    "locs, labels = plt.xticks(rotation=45, fontsize=15)\n",
    "plt.title(\"Different days of week and distances\")\n",
    "plt.xlabel(\"Days\")\n",
    "plt.ylabel(\"Distance\")"
   ]
  },
  {
   "cell_type": "code",
   "execution_count": null,
   "id": "5c400087",
   "metadata": {},
   "outputs": [],
   "source": [
    "sns.relplot(x='distance_km', y='moving_time(min)', hue='start_day_name',\n",
    "            col='start_day_name', col_wrap=3, data=run)"
   ]
  },
  {
   "cell_type": "markdown",
   "id": "ddbed21a",
   "metadata": {},
   "source": [
    "#### Pointplots"
   ]
  },
  {
   "cell_type": "code",
   "execution_count": null,
   "id": "ff503568",
   "metadata": {},
   "outputs": [],
   "source": [
    "sns.pointplot(x='start_day_name', y='distance_km',  data=run_5_more)\n",
    "plt.title(\"Different days of week and distances 5km and more\")\n",
    "plt.xlabel(\"Days\")\n",
    "plt.ylabel(\"Distance\")"
   ]
  },
  {
   "cell_type": "markdown",
   "id": "90d5b884",
   "metadata": {},
   "source": [
    "#### Violinplots"
   ]
  },
  {
   "cell_type": "code",
   "execution_count": null,
   "id": "8af6ae20",
   "metadata": {},
   "outputs": [],
   "source": [
    "sns.violinplot(x='start_day_name', y='distance_km', palette='muted', data=run)\n",
    "plt.title(\"Different days of week and distances\")\n",
    "plt.xlabel(\"Days\")\n",
    "plt.ylabel(\"Distance\")"
   ]
  },
  {
   "cell_type": "markdown",
   "id": "2f38b93c",
   "metadata": {},
   "source": [
    "#### Scatterplots + FacetGrid"
   ]
  },
  {
   "cell_type": "code",
   "execution_count": null,
   "id": "6889096d",
   "metadata": {},
   "outputs": [],
   "source": [
    "sns.scatterplot(x='distance_km',\n",
    "                y='moving_time(min)',\n",
    " b               data=run_5_more)\n",
    "locs,label = plt.xticks(rotation=90, fontsize=3)"
   ]
  },
  {
   "cell_type": "code",
   "execution_count": null,
   "id": "2991da4a",
   "metadata": {},
   "outputs": [],
   "source": [
    "g = sns.FacetGrid(run, col='start_day_name', col_wrap=2)\n",
    "g = g.map(sns.scatterplot, 'distance_km', 'max_speed_kmh')\n",
    "#plt.title(\"Different days of week and distances\")\n"
   ]
  },
  {
   "cell_type": "markdown",
   "id": "f6dc6cde",
   "metadata": {},
   "source": [
    "#### Regplots"
   ]
  },
  {
   "cell_type": "code",
   "execution_count": null,
   "id": "10a1ef1d",
   "metadata": {},
   "outputs": [],
   "source": [
    "sns.set(style=\"ticks\", context=\"talk\")\n",
    "sns.regplot(x=\"distance_km\", y=\"average_speed_kmh\", data=run).set_title(\"Average Speed vs Distance\")"
   ]
  },
  {
   "cell_type": "code",
   "execution_count": null,
   "id": "db28ef7f",
   "metadata": {},
   "outputs": [],
   "source": [
    "sns.set(style=\"ticks\", context=\"talk\")\n",
    "sns.regplot(x='distance_km', y='max_speed_kmh', data=run).set_title(\"Max Speed vs Distance\")"
   ]
  },
  {
   "cell_type": "code",
   "execution_count": null,
   "id": "891a0e86",
   "metadata": {},
   "outputs": [],
   "source": [
    "sns.boxplot(x='name',y='distance_km',data=run_5_more)\n",
    "locs, labels = plt.xticks(rotation=45, fontsize=12)"
   ]
  },
  {
   "cell_type": "markdown",
   "id": "7588fed1",
   "metadata": {},
   "source": [
    "#### Distplots"
   ]
  },
  {
   "cell_type": "code",
   "execution_count": null,
   "id": "b17d4e78",
   "metadata": {},
   "outputs": [],
   "source": [
    "sns.displot(run['distance_km'])"
   ]
  }
 ],
 "metadata": {
  "interpreter": {
   "hash": "aee8b7b246df8f9039afb4144a1f6fd8d2ca17a180786b69acc140d282b71a49"
  },
  "kernelspec": {
   "display_name": "Python 3 (ipykernel)",
   "language": "python",
   "name": "python3"
  },
  "language_info": {
   "codemirror_mode": {
    "name": "ipython",
    "version": 3
   },
   "file_extension": ".py",
   "mimetype": "text/x-python",
   "name": "python",
   "nbconvert_exporter": "python",
   "pygments_lexer": "ipython3",
   "version": "3.7.11"
  }
 },
 "nbformat": 4,
 "nbformat_minor": 5
}
